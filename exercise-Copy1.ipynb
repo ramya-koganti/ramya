{
 "cells": [
  {
   "cell_type": "code",
   "execution_count": 1,
   "id": "605799b0",
   "metadata": {},
   "outputs": [
    {
     "name": "stdout",
     "output_type": "stream",
     "text": [
      "enter a string:abcdef\n"
     ]
    }
   ],
   "source": [
    "x=input(\"enter a string:\")\n",
    "i=0\n",
    "strin=\"\"\n",
    "while i<len(x):\n",
    "    if i%2==0:\n",
    "        strin=strin+x[i].upper()\n",
    "        \n",
    "    else:\n",
    "        strin=strin+x[i]\n",
    "        \n",
    "    i=i+1"
   ]
  },
  {
   "cell_type": "code",
   "execution_count": 2,
   "id": "9bbaffc8",
   "metadata": {},
   "outputs": [
    {
     "data": {
      "text/plain": [
       "'AbCdEf'"
      ]
     },
     "execution_count": 2,
     "metadata": {},
     "output_type": "execute_result"
    }
   ],
   "source": [
    "strin"
   ]
  },
  {
   "cell_type": "code",
   "execution_count": null,
   "id": "798315cc",
   "metadata": {},
   "outputs": [],
   "source": []
  },
  {
   "cell_type": "code",
   "execution_count": 2,
   "id": "1a2ef407",
   "metadata": {},
   "outputs": [
    {
     "name": "stdout",
     "output_type": "stream",
     "text": [
      "<class 'str'>\n",
      "<class 'int'>\n",
      "<class 'float'>\n",
      "<class 'complex'>\n"
     ]
    }
   ],
   "source": [
    "x=[\"a\",1,2.1,1+2j]\n",
    "i=0\n",
    "while i<len(x):\n",
    "    print(type(x[i]))\n",
    "    i=i+1\n"
   ]
  },
  {
   "cell_type": "code",
   "execution_count": 3,
   "id": "f03c5adf",
   "metadata": {},
   "outputs": [
    {
     "name": "stdout",
     "output_type": "stream",
     "text": [
      "enter a string:abc123def\n"
     ]
    }
   ],
   "source": [
    "x=input(\"enter a string:\")\n",
    "i=0\n",
    "str=\"\"\n",
    "str1=\"\"\n",
    "while i<len(x):\n",
    "    if x[i].isdigit():\n",
    "        str=str+x[i]\n",
    "        \n",
    "    else:\n",
    "        str1=str1+x[i]\n",
    "    i=i+1"
   ]
  },
  {
   "cell_type": "code",
   "execution_count": 4,
   "id": "16861e3c",
   "metadata": {},
   "outputs": [
    {
     "data": {
      "text/plain": [
       "'123'"
      ]
     },
     "execution_count": 4,
     "metadata": {},
     "output_type": "execute_result"
    }
   ],
   "source": [
    "str\n"
   ]
  },
  {
   "cell_type": "code",
   "execution_count": 5,
   "id": "6449e46d",
   "metadata": {},
   "outputs": [
    {
     "data": {
      "text/plain": [
       "'abcdef'"
      ]
     },
     "execution_count": 5,
     "metadata": {},
     "output_type": "execute_result"
    }
   ],
   "source": [
    "str1"
   ]
  },
  {
   "cell_type": "code",
   "execution_count": 21,
   "id": "a8a0c2cd",
   "metadata": {},
   "outputs": [
    {
     "name": "stdout",
     "output_type": "stream",
     "text": [
      "{1, 2, 3, 6, 'b', 'a'}\n"
     ]
    }
   ],
   "source": [
    "\n",
    "l1 =[1,2,3,\"a\",\"b\"]\n",
    "l2 =[6,1,3,\"a\",\"b\"]\n",
    "l3=set(l1+l2)\n",
    "print(l3)\n"
   ]
  },
  {
   "cell_type": "code",
   "execution_count": null,
   "id": "876e2837",
   "metadata": {},
   "outputs": [
    {
     "name": "stdout",
     "output_type": "stream",
     "text": [
      "enter a number4\n",
      "enter operation +,-,*,/,%=\n",
      "enter another number4\n"
     ]
    }
   ],
   "source": [
    "\n",
    "a=int(input(\"enter a number\"))\n",
    "opr=input(\"enter operation +,-,*,/,%\")\n",
    "b=int(input(\"enter another number\"))\n",
    "while True:\n",
    "    \n",
    "    if opr=='+':\n",
    "        print(a+b)\n",
    "        break\n",
    "    if opr=='-':\n",
    "        print(a-b)\n",
    "        break\n",
    "    if opr=='*':\n",
    "        print(a*b)\n",
    "        break\n",
    "    if opr=='/':\n",
    "        print(a/b)\n",
    "        break\n",
    "    if opr=='%':\n",
    "        print(a%b)\n",
    "        break\n",
    "\n",
    "    \n",
    "        \n",
    "    \n",
    "        \n",
    "\n",
    "\n",
    "      \n",
    "\n"
   ]
  },
  {
   "cell_type": "code",
   "execution_count": 1,
   "id": "ff85c0e2",
   "metadata": {},
   "outputs": [],
   "source": [
    "x=[\"a\",\"b\",4,2,3,\"d\",\"e\",\"f\"]\n",
    "i=0\n",
    "str1=\"\"\n",
    "n=0\n",
    "\n",
    "while i<len(x):\n",
    "    if str(x[i]).isalpha():\n",
    "        str1=str1+x[i]\n",
    "        \n",
    "    else:\n",
    "        n=n+x[i]\n",
    "        \n",
    "        \n",
    "        \n",
    "        \n",
    "    i=i+1"
   ]
  },
  {
   "cell_type": "code",
   "execution_count": 17,
   "id": "820e2764",
   "metadata": {},
   "outputs": [
    {
     "data": {
      "text/plain": [
       "'abdef'"
      ]
     },
     "execution_count": 17,
     "metadata": {},
     "output_type": "execute_result"
    }
   ],
   "source": [
    "str1"
   ]
  },
  {
   "cell_type": "code",
   "execution_count": 18,
   "id": "70c9df9c",
   "metadata": {},
   "outputs": [
    {
     "data": {
      "text/plain": [
       "9"
      ]
     },
     "execution_count": 18,
     "metadata": {},
     "output_type": "execute_result"
    }
   ],
   "source": [
    "n"
   ]
  },
  {
   "cell_type": "code",
   "execution_count": 29,
   "id": "a1a41f25",
   "metadata": {},
   "outputs": [
    {
     "data": {
      "text/plain": [
       "['1', '2', '3']"
      ]
     },
     "execution_count": 29,
     "metadata": {},
     "output_type": "execute_result"
    }
   ],
   "source": [
    "list(str2)"
   ]
  },
  {
   "cell_type": "code",
   "execution_count": 2,
   "id": "2d00093a",
   "metadata": {},
   "outputs": [
    {
     "data": {
      "text/plain": [
       "{1, 4, 6, 7}"
      ]
     },
     "execution_count": 2,
     "metadata": {},
     "output_type": "execute_result"
    }
   ],
   "source": [
    "l1=[1,2,3,4,5]\n",
    "l2=[2,3,5,6,7]\n",
    "set(l1)^set(l2)"
   ]
  },
  {
   "cell_type": "code",
   "execution_count": 1,
   "id": "ea62e902",
   "metadata": {},
   "outputs": [
    {
     "name": "stdout",
     "output_type": "stream",
     "text": [
      "a\n",
      "b\n",
      "c\n",
      "d\n",
      "e\n",
      "f\n"
     ]
    }
   ],
   "source": [
    "x=\"abcdef\"\n",
    "i=0\n",
    "while i<len(x):\n",
    "    print(x[i])\n",
    "    i=i+1\n"
   ]
  },
  {
   "cell_type": "code",
   "execution_count": 5,
   "id": "05c24b1a",
   "metadata": {},
   "outputs": [
    {
     "name": "stdout",
     "output_type": "stream",
     "text": [
      "1\n",
      "3\n",
      "5\n",
      "7\n"
     ]
    }
   ],
   "source": [
    "x=[1,2,3,4,5,6,7,8]\n",
    "i=0\n",
    "while i<len(x):\n",
    "    if x[i]%2!=0:\n",
    "        print(x[i])\n",
    "    i=i+1"
   ]
  },
  {
   "cell_type": "code",
   "execution_count": 12,
   "id": "6a0ac557",
   "metadata": {},
   "outputs": [],
   "source": [
    "l1=[]\n",
    "i=0\n",
    "while i<5:\n",
    "    l1.append(i)\n",
    "    i=i+1\n",
    "    "
   ]
  },
  {
   "cell_type": "code",
   "execution_count": 13,
   "id": "a7f31862",
   "metadata": {},
   "outputs": [
    {
     "data": {
      "text/plain": [
       "[0, 1, 2, 3, 4]"
      ]
     },
     "execution_count": 13,
     "metadata": {},
     "output_type": "execute_result"
    }
   ],
   "source": [
    "l1"
   ]
  },
  {
   "cell_type": "code",
   "execution_count": 14,
   "id": "e6b99073",
   "metadata": {},
   "outputs": [],
   "source": [
    "l2=[]\n",
    "i=2\n",
    "while i<8:\n",
    "    l2.append(i)\n",
    "    i=i+1"
   ]
  },
  {
   "cell_type": "code",
   "execution_count": 15,
   "id": "ce506f78",
   "metadata": {},
   "outputs": [
    {
     "data": {
      "text/plain": [
       "[2, 3, 4, 5, 6, 7]"
      ]
     },
     "execution_count": 15,
     "metadata": {},
     "output_type": "execute_result"
    }
   ],
   "source": [
    "l2"
   ]
  },
  {
   "cell_type": "code",
   "execution_count": 18,
   "id": "9df37ea5",
   "metadata": {},
   "outputs": [
    {
     "data": {
      "text/plain": [
       "{0, 1, 5, 6, 7}"
      ]
     },
     "execution_count": 18,
     "metadata": {},
     "output_type": "execute_result"
    }
   ],
   "source": [
    "set(l1)^set(l2)"
   ]
  },
  {
   "cell_type": "code",
   "execution_count": 24,
   "id": "9bfe3133",
   "metadata": {},
   "outputs": [],
   "source": [
    "x=[\"a\",\"b\",12,3,4]\n",
    "i=0\n",
    "stri=\"\"\n",
    "n=0\n",
    "while i<len(x):\n",
    "    if str(x[i]).isalpha():\n",
    "        stri=stri+x[i]\n",
    "    else:\n",
    "        n=n+x[i]\n",
    "    i=i+1\n",
    "        "
   ]
  },
  {
   "cell_type": "code",
   "execution_count": 25,
   "id": "5a3fe674",
   "metadata": {},
   "outputs": [
    {
     "data": {
      "text/plain": [
       "'ab'"
      ]
     },
     "execution_count": 25,
     "metadata": {},
     "output_type": "execute_result"
    }
   ],
   "source": [
    "stri\n"
   ]
  },
  {
   "cell_type": "code",
   "execution_count": 26,
   "id": "41a666da",
   "metadata": {},
   "outputs": [
    {
     "data": {
      "text/plain": [
       "19"
      ]
     },
     "execution_count": 26,
     "metadata": {},
     "output_type": "execute_result"
    }
   ],
   "source": [
    "n"
   ]
  },
  {
   "cell_type": "code",
   "execution_count": null,
   "id": "4fc452b7",
   "metadata": {},
   "outputs": [],
   "source": []
  }
 ],
 "metadata": {
  "kernelspec": {
   "display_name": "Python 3 (ipykernel)",
   "language": "python",
   "name": "python3"
  },
  "language_info": {
   "codemirror_mode": {
    "name": "ipython",
    "version": 3
   },
   "file_extension": ".py",
   "mimetype": "text/x-python",
   "name": "python",
   "nbconvert_exporter": "python",
   "pygments_lexer": "ipython3",
   "version": "3.9.12"
  }
 },
 "nbformat": 4,
 "nbformat_minor": 5
}
